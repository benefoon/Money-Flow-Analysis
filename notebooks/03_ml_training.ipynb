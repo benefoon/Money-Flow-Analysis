# 03_ml_training.ipynb
# Code Outline:

import pandas as pd
from sklearn.ensemble import RandomForestClassifier
from sklearn.model_selection import train_test_split
from sklearn.metrics import classification_report, accuracy_score
import joblib

# Load normalized data
data = pd.read_csv('../data/processed/transactions_normalized.csv')

# Prepare features and labels
X = data[['amount', 'transaction_type', 'time']]
y = data['is_suspicious']

# Split data
X_train, X_test, y_train, y_test = train_test_split(X, y, test_size=0.2, random_state=42)

# Train model
model = RandomForestClassifier(n_estimators=100, random_state=42)
model.fit(X_train, y_train)

# Evaluate model
y_pred = model.predict(X_test)
print("Accuracy:", accuracy_score(y_test, y_pred))
print(classification_report(y_test, y_pred))

# Save model
joblib.dump(model, '../models/suspicious_transaction_model.pkl')
