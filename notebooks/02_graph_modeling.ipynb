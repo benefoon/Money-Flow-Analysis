# 02_graph_modeling.ipynb
# Code Outline:

import pandas as pd
import networkx as nx

# Load cleaned data
data = pd.read_csv('../data/processed/transactions_cleaned.csv')

# Build graph
G = nx.DiGraph()
for _, row in data.iterrows():
    G.add_edge(row['sender'], row['receiver'], amount=row['amount'])

# Analyze graph
print(nx.info(G))
centrality = nx.degree_centrality(G)
print("Top central nodes:", sorted(centrality.items(), key=lambda x: -x[1])[:5])
