# 01_data_cleaning.ipynb
# Code Outline:

import pandas as pd

# Load data
data = pd.read_csv('../data/raw/transactions.csv')

# Cleaning process
data.dropna(inplace=True)
data['amount'] = data['amount'].apply(lambda x: abs(x))

# Save cleaned data
data.to_csv('../data/processed/transactions_cleaned.csv', index=False)

print("Data cleaning complete.")
